{
  "nbformat": 4,
  "nbformat_minor": 0,
  "metadata": {
    "colab": {
      "provenance": [],
      "authorship_tag": "ABX9TyMKmgHx9UKZEfArqBCEZdIs",
      "include_colab_link": true
    },
    "kernelspec": {
      "name": "python3",
      "display_name": "Python 3"
    },
    "language_info": {
      "name": "python"
    }
  },
  "cells": [
    {
      "cell_type": "markdown",
      "metadata": {
        "id": "view-in-github",
        "colab_type": "text"
      },
      "source": [
        "<a href=\"https://colab.research.google.com/github/anuradhakamble25/Result/blob/main/Election_result.ipynb\" target=\"_parent\"><img src=\"https://colab.research.google.com/assets/colab-badge.svg\" alt=\"Open In Colab\"/></a>"
      ]
    },
    {
      "cell_type": "code",
      "execution_count": 1,
      "metadata": {
        "id": "yifM6LLgYffR"
      },
      "outputs": [],
      "source": [
        "import pandas as pd"
      ]
    },
    {
      "cell_type": "code",
      "source": [
        "data = {\n",
        "\n",
        "'Constituency': ['A', 'B', 'C', 'A', 'B', 'C', 'A', 'B', 'C'],\n",
        "\n",
        "'Party': ['Party A', 'Party B', 'Party A', 'Party B', 'Party C', 'Party C', 'Party A', 'Party B', 'Party A'],\n",
        "\n",
        "'Candidate': [ 'Candidate X', 'Candidate Y', 'Candidate Z', 'Candidate P', 'Candidate Q', 'Candidate R', 'Candidate S', 'Candidate T', 'Candidate U'],\n",
        "\n",
        "'Votes': [15000, 12000, 18000, 13000, 10000, 11000, 17000, 14000, 16000]\n",
        "}\n",
        "df =pd.DataFrame(data)\n"
      ],
      "metadata": {
        "id": "CTATx2rTbhSl"
      },
      "execution_count": 2,
      "outputs": []
    },
    {
      "cell_type": "code",
      "source": [
        "#Calculate total votes for each party\n",
        "\n",
        "total_votes_by_party= df.groupby('Party') ['Votes'].sum()\n",
        "\n",
        "print(\"Total votes per Party:\\n\", total_votes_by_party)\n"
      ],
      "metadata": {
        "colab": {
          "base_uri": "https://localhost:8080/"
        },
        "id": "7ar9tERidK0K",
        "outputId": "87fb1914-650f-42b8-d03f-5fed1789f874"
      },
      "execution_count": 3,
      "outputs": [
        {
          "output_type": "stream",
          "name": "stdout",
          "text": [
            "Total votes per Party:\n",
            " Party\n",
            "Party A    66000\n",
            "Party B    39000\n",
            "Party C    21000\n",
            "Name: Votes, dtype: int64\n"
          ]
        }
      ]
    },
    {
      "cell_type": "code",
      "source": [
        "#Identify the winning party in each constituency\n",
        "\n",
        "def get_winning_party(x):\n",
        "\n",
        "     return x.loc[x['Votes'].idxmax(), 'Party']\n"
      ],
      "metadata": {
        "id": "ErHOTL8BdTHM"
      },
      "execution_count": 4,
      "outputs": []
    },
    {
      "cell_type": "code",
      "source": [
        "winning_party_by_constituency=df.groupby('Constituency').apply(get_winning_party)\n",
        "print(\"\\winning party by constituency :\\n\",winning_party_by_constituency)\n"
      ],
      "metadata": {
        "colab": {
          "base_uri": "https://localhost:8080/"
        },
        "id": "rCpWARjldaG5",
        "outputId": "9db858a3-517b-481f-ad0b-af38230443a7"
      },
      "execution_count": 5,
      "outputs": [
        {
          "output_type": "stream",
          "name": "stdout",
          "text": [
            "\\winning party by constituency :\n",
            " Constituency\n",
            "A    Party A\n",
            "B    Party B\n",
            "C    Party A\n",
            "dtype: object\n"
          ]
        },
        {
          "output_type": "stream",
          "name": "stderr",
          "text": [
            "<ipython-input-5-e8c24126e8cc>:1: DeprecationWarning: DataFrameGroupBy.apply operated on the grouping columns. This behavior is deprecated, and in a future version of pandas the grouping columns will be excluded from the operation. Either pass `include_groups=False` to exclude the groupings or explicitly select the grouping columns after groupby to silence this warning.\n",
            "  winning_party_by_constituency=df.groupby('Constituency').apply(get_winning_party)\n"
          ]
        }
      ]
    },
    {
      "cell_type": "code",
      "source": [
        "overall_winner = total_votes_by_party.idxmax()\n",
        "\n",
        "print(\"\\nOverall Election Winner:\", overall_winner)"
      ],
      "metadata": {
        "colab": {
          "base_uri": "https://localhost:8080/"
        },
        "id": "8TQ02YNUdilG",
        "outputId": "593f28dc-e232-4759-f0a0-6d71b60f8de2"
      },
      "execution_count": 6,
      "outputs": [
        {
          "output_type": "stream",
          "name": "stdout",
          "text": [
            "\n",
            "Overall Election Winner: Party A\n"
          ]
        }
      ]
    },
    {
      "cell_type": "code",
      "source": [
        "#Calculate vote share percentages\n",
        "\n",
        "total_votes =df['Votes'].sum()\n",
        "\n",
        "df['Vote Share (%)'] =(df['Votes'] / total_votes)*100\n",
        "\n",
        "print(\"\\nVote Share Percentages:\\n\", df)\n"
      ],
      "metadata": {
        "colab": {
          "base_uri": "https://localhost:8080/"
        },
        "id": "biOcpwJud2tG",
        "outputId": "638fd784-8da3-4f43-d8a9-2d2d381bb77f"
      },
      "execution_count": 7,
      "outputs": [
        {
          "output_type": "stream",
          "name": "stdout",
          "text": [
            "\n",
            "Vote Share Percentages:\n",
            "   Constituency    Party    Candidate  Votes  Vote Share (%)\n",
            "0            A  Party A  Candidate X  15000       11.904762\n",
            "1            B  Party B  Candidate Y  12000        9.523810\n",
            "2            C  Party A  Candidate Z  18000       14.285714\n",
            "3            A  Party B  Candidate P  13000       10.317460\n",
            "4            B  Party C  Candidate Q  10000        7.936508\n",
            "5            C  Party C  Candidate R  11000        8.730159\n",
            "6            A  Party A  Candidate S  17000       13.492063\n",
            "7            B  Party B  Candidate T  14000       11.111111\n",
            "8            C  Party A  Candidate U  16000       12.698413\n"
          ]
        }
      ]
    },
    {
      "cell_type": "code",
      "source": [
        "def close_contest(x):\n",
        "   vote_counts = x[ 'Votes'].values\n",
        "   if len(vote_counts) > 1:\n",
        "       vote_counts.sort() # Sort the vote counts within the constituency\n",
        "       margin=(vote_counts[-1] -vote_counts[-2]) / vote_counts[-1] * 100\n",
        "       return margin < 12.0\n",
        "   else:\n",
        "       return False\n",
        "close_constituencies =df.groupby('Constituency').filter(close_contest) ['Constituency'].unique()\n",
        "print(\"\\nConstituencies with Close Contests:\", close_constituencies)"
      ],
      "metadata": {
        "colab": {
          "base_uri": "https://localhost:8080/"
        },
        "id": "gGdWV7cKd9c-",
        "outputId": "53b4d31e-476e-4d50-90b9-7ef92487298e"
      },
      "execution_count": 8,
      "outputs": [
        {
          "output_type": "stream",
          "name": "stdout",
          "text": [
            "\n",
            "Constituencies with Close Contests: ['A' 'C']\n"
          ]
        }
      ]
    }
  ]
}